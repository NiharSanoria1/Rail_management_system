{
 "cells": [
  {
   "cell_type": "code",
   "execution_count": 1,
   "metadata": {},
   "outputs": [],
   "source": [
    "import pandas as pd\n",
    "import re \n",
    "import string \n",
    "\n",
    "import nltk\n",
    "from nltk.corpus import stopwords\n",
    "from nltk.tokenize import word_tokenize\n",
    "from nltk.stem import WordNetLemmatizer"
   ]
  },
  {
   "cell_type": "code",
   "execution_count": 36,
   "metadata": {},
   "outputs": [
    {
     "name": "stderr",
     "output_type": "stream",
     "text": [
      "[nltk_data] Downloading package stopwords to /home/nihar/nltk_data...\n",
      "[nltk_data]   Package stopwords is already up-to-date!\n",
      "[nltk_data] Downloading package punkt to /home/nihar/nltk_data...\n",
      "[nltk_data]   Package punkt is already up-to-date!\n",
      "[nltk_data] Downloading package wordnet to /home/nihar/nltk_data...\n",
      "[nltk_data]   Package wordnet is already up-to-date!\n"
     ]
    }
   ],
   "source": [
    "# Download necessary NLTK resources\n",
    "nltk.download('stopwords')\n",
    "nltk.download('punkt')\n",
    "nltk.download('wordnet')\n",
    "\n",
    "stop_words = set(stopwords.words('english'))\n",
    "lemmatizer = WordNetLemmatizer()"
   ]
  },
  {
   "cell_type": "code",
   "execution_count": 12,
   "metadata": {},
   "outputs": [],
   "source": [
    "data = pd.read_csv('./data/dataset.csv', encoding=\"latin-1\")"
   ]
  },
  {
   "cell_type": "code",
   "execution_count": 13,
   "metadata": {},
   "outputs": [
    {
     "data": {
      "text/html": [
       "<div>\n",
       "<style scoped>\n",
       "    .dataframe tbody tr th:only-of-type {\n",
       "        vertical-align: middle;\n",
       "    }\n",
       "\n",
       "    .dataframe tbody tr th {\n",
       "        vertical-align: top;\n",
       "    }\n",
       "\n",
       "    .dataframe thead th {\n",
       "        text-align: right;\n",
       "    }\n",
       "</style>\n",
       "<table border=\"1\" class=\"dataframe\">\n",
       "  <thead>\n",
       "    <tr style=\"text-align: right;\">\n",
       "      <th></th>\n",
       "      <th>ï»¿Item ID</th>\n",
       "      <th>Sentiment</th>\n",
       "      <th>SentimentText</th>\n",
       "    </tr>\n",
       "  </thead>\n",
       "  <tbody>\n",
       "    <tr>\n",
       "      <th>0</th>\n",
       "      <td>1</td>\n",
       "      <td>0</td>\n",
       "      <td>@RailMinIndia My PNR is 8348062961, I am in wa...</td>\n",
       "    </tr>\n",
       "    <tr>\n",
       "      <th>1</th>\n",
       "      <td>2</td>\n",
       "      <td>0</td>\n",
       "      <td>@sureshpprabhu @RailMinIndia AC not working in...</td>\n",
       "    </tr>\n",
       "    <tr>\n",
       "      <th>2</th>\n",
       "      <td>3</td>\n",
       "      <td>0</td>\n",
       "      <td>@RailMinIndia I'm traveling to chennai by trai...</td>\n",
       "    </tr>\n",
       "    <tr>\n",
       "      <th>3</th>\n",
       "      <td>4</td>\n",
       "      <td>5</td>\n",
       "      <td>@RailMinIndia irctc is not responding at the t...</td>\n",
       "    </tr>\n",
       "    <tr>\n",
       "      <th>4</th>\n",
       "      <td>5</td>\n",
       "      <td>7</td>\n",
       "      <td>@DRMbhopal @RailMinIndia @sanjaygupta2012 @drm...</td>\n",
       "    </tr>\n",
       "  </tbody>\n",
       "</table>\n",
       "</div>"
      ],
      "text/plain": [
       "   ï»¿Item ID  Sentiment                                      SentimentText\n",
       "0           1          0  @RailMinIndia My PNR is 8348062961, I am in wa...\n",
       "1           2          0  @sureshpprabhu @RailMinIndia AC not working in...\n",
       "2           3          0  @RailMinIndia I'm traveling to chennai by trai...\n",
       "3           4          5  @RailMinIndia irctc is not responding at the t...\n",
       "4           5          7  @DRMbhopal @RailMinIndia @sanjaygupta2012 @drm..."
      ]
     },
     "execution_count": 13,
     "metadata": {},
     "output_type": "execute_result"
    }
   ],
   "source": [
    "data.head()"
   ]
  },
  {
   "cell_type": "code",
   "execution_count": 14,
   "metadata": {},
   "outputs": [
    {
     "name": "stdout",
     "output_type": "stream",
     "text": [
      "<class 'pandas.core.frame.DataFrame'>\n",
      "RangeIndex: 1366 entries, 0 to 1365\n",
      "Data columns (total 3 columns):\n",
      " #   Column         Non-Null Count  Dtype \n",
      "---  ------         --------------  ----- \n",
      " 0   ï»¿Item ID     1366 non-null   int64 \n",
      " 1   Sentiment      1366 non-null   int64 \n",
      " 2   SentimentText  1366 non-null   object\n",
      "dtypes: int64(2), object(1)\n",
      "memory usage: 32.1+ KB\n"
     ]
    }
   ],
   "source": [
    "data.info()"
   ]
  },
  {
   "cell_type": "code",
   "execution_count": 15,
   "metadata": {},
   "outputs": [
    {
     "data": {
      "text/plain": [
       "ï»¿Item ID       0\n",
       "Sentiment        0\n",
       "SentimentText    0\n",
       "dtype: int64"
      ]
     },
     "execution_count": 15,
     "metadata": {},
     "output_type": "execute_result"
    }
   ],
   "source": [
    "data.isnull().sum()"
   ]
  },
  {
   "cell_type": "code",
   "execution_count": 16,
   "metadata": {},
   "outputs": [],
   "source": [
    "data.rename(columns={\"ï»¿Item ID\": \"Item ID\"}, inplace=True)"
   ]
  },
  {
   "cell_type": "code",
   "execution_count": 17,
   "metadata": {},
   "outputs": [
    {
     "data": {
      "text/html": [
       "<div>\n",
       "<style scoped>\n",
       "    .dataframe tbody tr th:only-of-type {\n",
       "        vertical-align: middle;\n",
       "    }\n",
       "\n",
       "    .dataframe tbody tr th {\n",
       "        vertical-align: top;\n",
       "    }\n",
       "\n",
       "    .dataframe thead th {\n",
       "        text-align: right;\n",
       "    }\n",
       "</style>\n",
       "<table border=\"1\" class=\"dataframe\">\n",
       "  <thead>\n",
       "    <tr style=\"text-align: right;\">\n",
       "      <th></th>\n",
       "      <th>Item ID</th>\n",
       "      <th>Sentiment</th>\n",
       "      <th>SentimentText</th>\n",
       "    </tr>\n",
       "  </thead>\n",
       "  <tbody>\n",
       "    <tr>\n",
       "      <th>0</th>\n",
       "      <td>1</td>\n",
       "      <td>0</td>\n",
       "      <td>@RailMinIndia My PNR is 8348062961, I am in wa...</td>\n",
       "    </tr>\n",
       "    <tr>\n",
       "      <th>1</th>\n",
       "      <td>2</td>\n",
       "      <td>0</td>\n",
       "      <td>@sureshpprabhu @RailMinIndia AC not working in...</td>\n",
       "    </tr>\n",
       "    <tr>\n",
       "      <th>2</th>\n",
       "      <td>3</td>\n",
       "      <td>0</td>\n",
       "      <td>@RailMinIndia I'm traveling to chennai by trai...</td>\n",
       "    </tr>\n",
       "    <tr>\n",
       "      <th>3</th>\n",
       "      <td>4</td>\n",
       "      <td>5</td>\n",
       "      <td>@RailMinIndia irctc is not responding at the t...</td>\n",
       "    </tr>\n",
       "    <tr>\n",
       "      <th>4</th>\n",
       "      <td>5</td>\n",
       "      <td>7</td>\n",
       "      <td>@DRMbhopal @RailMinIndia @sanjaygupta2012 @drm...</td>\n",
       "    </tr>\n",
       "  </tbody>\n",
       "</table>\n",
       "</div>"
      ],
      "text/plain": [
       "   Item ID  Sentiment                                      SentimentText\n",
       "0        1          0  @RailMinIndia My PNR is 8348062961, I am in wa...\n",
       "1        2          0  @sureshpprabhu @RailMinIndia AC not working in...\n",
       "2        3          0  @RailMinIndia I'm traveling to chennai by trai...\n",
       "3        4          5  @RailMinIndia irctc is not responding at the t...\n",
       "4        5          7  @DRMbhopal @RailMinIndia @sanjaygupta2012 @drm..."
      ]
     },
     "execution_count": 17,
     "metadata": {},
     "output_type": "execute_result"
    }
   ],
   "source": [
    "data.head()"
   ]
  },
  {
   "cell_type": "code",
   "execution_count": 18,
   "metadata": {},
   "outputs": [],
   "source": [
    "data['SentimentText_Copy'] = data['SentimentText']  "
   ]
  },
  {
   "cell_type": "code",
   "execution_count": 19,
   "metadata": {},
   "outputs": [
    {
     "data": {
      "text/html": [
       "<div>\n",
       "<style scoped>\n",
       "    .dataframe tbody tr th:only-of-type {\n",
       "        vertical-align: middle;\n",
       "    }\n",
       "\n",
       "    .dataframe tbody tr th {\n",
       "        vertical-align: top;\n",
       "    }\n",
       "\n",
       "    .dataframe thead th {\n",
       "        text-align: right;\n",
       "    }\n",
       "</style>\n",
       "<table border=\"1\" class=\"dataframe\">\n",
       "  <thead>\n",
       "    <tr style=\"text-align: right;\">\n",
       "      <th></th>\n",
       "      <th>Item ID</th>\n",
       "      <th>Sentiment</th>\n",
       "      <th>SentimentText</th>\n",
       "      <th>SentimentText_Copy</th>\n",
       "    </tr>\n",
       "  </thead>\n",
       "  <tbody>\n",
       "    <tr>\n",
       "      <th>0</th>\n",
       "      <td>1</td>\n",
       "      <td>0</td>\n",
       "      <td>@RailMinIndia My PNR is 8348062961, I am in wa...</td>\n",
       "      <td>@RailMinIndia My PNR is 8348062961, I am in wa...</td>\n",
       "    </tr>\n",
       "    <tr>\n",
       "      <th>1</th>\n",
       "      <td>2</td>\n",
       "      <td>0</td>\n",
       "      <td>@sureshpprabhu @RailMinIndia AC not working in...</td>\n",
       "      <td>@sureshpprabhu @RailMinIndia AC not working in...</td>\n",
       "    </tr>\n",
       "    <tr>\n",
       "      <th>2</th>\n",
       "      <td>3</td>\n",
       "      <td>0</td>\n",
       "      <td>@RailMinIndia I'm traveling to chennai by trai...</td>\n",
       "      <td>@RailMinIndia I'm traveling to chennai by trai...</td>\n",
       "    </tr>\n",
       "    <tr>\n",
       "      <th>3</th>\n",
       "      <td>4</td>\n",
       "      <td>5</td>\n",
       "      <td>@RailMinIndia irctc is not responding at the t...</td>\n",
       "      <td>@RailMinIndia irctc is not responding at the t...</td>\n",
       "    </tr>\n",
       "    <tr>\n",
       "      <th>4</th>\n",
       "      <td>5</td>\n",
       "      <td>7</td>\n",
       "      <td>@DRMbhopal @RailMinIndia @sanjaygupta2012 @drm...</td>\n",
       "      <td>@DRMbhopal @RailMinIndia @sanjaygupta2012 @drm...</td>\n",
       "    </tr>\n",
       "  </tbody>\n",
       "</table>\n",
       "</div>"
      ],
      "text/plain": [
       "   Item ID  Sentiment                                      SentimentText  \\\n",
       "0        1          0  @RailMinIndia My PNR is 8348062961, I am in wa...   \n",
       "1        2          0  @sureshpprabhu @RailMinIndia AC not working in...   \n",
       "2        3          0  @RailMinIndia I'm traveling to chennai by trai...   \n",
       "3        4          5  @RailMinIndia irctc is not responding at the t...   \n",
       "4        5          7  @DRMbhopal @RailMinIndia @sanjaygupta2012 @drm...   \n",
       "\n",
       "                                  SentimentText_Copy  \n",
       "0  @RailMinIndia My PNR is 8348062961, I am in wa...  \n",
       "1  @sureshpprabhu @RailMinIndia AC not working in...  \n",
       "2  @RailMinIndia I'm traveling to chennai by trai...  \n",
       "3  @RailMinIndia irctc is not responding at the t...  \n",
       "4  @DRMbhopal @RailMinIndia @sanjaygupta2012 @drm...  "
      ]
     },
     "execution_count": 19,
     "metadata": {},
     "output_type": "execute_result"
    }
   ],
   "source": [
    "data.head()"
   ]
  },
  {
   "cell_type": "code",
   "execution_count": 165,
   "metadata": {},
   "outputs": [],
   "source": [
    "# df['SentimentText_Copy'] = df['SentimentText_Copy'].str.replace(r'@\\w+', '', regex=True).str.strip()\n",
    "#df['SentimentText_Copy'] = df['SentimentText_Copy'].str.replace(r'\\d+', '', regex=True).str.strip()\n",
    "#df['SentimentText_Copy'] = df['SentimentText_Copy'].str.replace(r'[^a-zA-Z0-9\\s]', '', regex=True).str.strip() "
   ]
  },
  {
   "cell_type": "code",
   "execution_count": 20,
   "metadata": {},
   "outputs": [
    {
     "name": "stdout",
     "output_type": "stream",
     "text": [
      " My PNR is 8348062961, I am in way but there is no water in toilet and mess is everywhere in coach. please provide basic facil.\n"
     ]
    }
   ],
   "source": [
    "text = re.sub(r'@\\w+' , '' , '@RailMinIndia My PNR is 8348062961, I am in way but there is no water in toilet and mess is everywhere in coach. please provide basic facil.')\n",
    "print(text)"
   ]
  },
  {
   "cell_type": "code",
   "execution_count": 22,
   "metadata": {},
   "outputs": [
    {
     "name": "stdout",
     "output_type": "stream",
     "text": [
      " My PNR is , I am in way but there is no water in toilet and mess is everywhere in coach. please provide basic facil.\n"
     ]
    }
   ],
   "source": [
    "text = re.sub(r'\\d+', '', text)\n",
    "print(text)"
   ]
  },
  {
   "cell_type": "code",
   "execution_count": 23,
   "metadata": {},
   "outputs": [
    {
     "name": "stdout",
     "output_type": "stream",
     "text": [
      " My PNR is  I am in way but there is no water in toilet and mess is everywhere in coach please provide basic facil\n"
     ]
    }
   ],
   "source": [
    "text = text.translate(str.maketrans('', '', string.punctuation))\n",
    "print(text)"
   ]
  },
  {
   "cell_type": "code",
   "execution_count": 24,
   "metadata": {},
   "outputs": [],
   "source": [
    "text = text.lower()"
   ]
  },
  {
   "cell_type": "code",
   "execution_count": 25,
   "metadata": {},
   "outputs": [
    {
     "name": "stdout",
     "output_type": "stream",
     "text": [
      "['my', 'pnr', 'is', 'i', 'am', 'in', 'way', 'but', 'there', 'is', 'no', 'water', 'in', 'toilet', 'and', 'mess', 'is', 'everywhere', 'in', 'coach', 'please', 'provide', 'basic', 'facil']\n"
     ]
    }
   ],
   "source": [
    "tokens = word_tokenize(text)\n",
    "print(tokens)"
   ]
  },
  {
   "cell_type": "code",
   "execution_count": 32,
   "metadata": {},
   "outputs": [],
   "source": [
    "lemmatizer = WordNetLemmatizer()\n",
    "stop_words = stopwords.words('english')"
   ]
  },
  {
   "cell_type": "code",
   "execution_count": 33,
   "metadata": {},
   "outputs": [
    {
     "name": "stdout",
     "output_type": "stream",
     "text": [
      "<class 'list'>\n"
     ]
    }
   ],
   "source": [
    "print(type(stop_words))"
   ]
  },
  {
   "cell_type": "code",
   "execution_count": 35,
   "metadata": {},
   "outputs": [
    {
     "name": "stdout",
     "output_type": "stream",
     "text": [
      "['pnr', 'way', 'water', 'toilet', 'mess', 'everywhere', 'coach', 'please', 'provide', 'basic', 'facil']\n"
     ]
    }
   ],
   "source": [
    "cleaned_tokens = [lemmatizer.lemmatize(word) for word in tokens if word not in stop_words]\n",
    "print(cleaned_tokens)"
   ]
  },
  {
   "cell_type": "code",
   "execution_count": 37,
   "metadata": {},
   "outputs": [],
   "source": [
    "def clean_text(text):\n",
    "    # handeling the null value\n",
    "    if pd.isna(text):\n",
    "        return \"\"\n",
    "    \n",
    "    text = re.sub(r'@\\w+' , '', text) # removing mentions (@)\n",
    "    text = re.sub(r'\\d+','',text) # removing numbers\n",
    "    \n",
    "    # removing special characters and punctuation (!\"#$%&'()*+,-./:;<=>?@[\\]^_`{|}~)\n",
    "    cleaned_text = text.translate(str.maketrans('','',string.punctuation))\n",
    "    \n",
    "    text.lower()\n",
    "    \n",
    "    #tokeniztion\n",
    "    tokens  = word_tokenize(text)\n",
    "    \n",
    "    # lemmentization (converting words to their root form)\n",
    "    cleaned_tokens= [lemmatizer.lemmatize(word) for word in tokens if word not in stop_words]\n",
    "    \n",
    "    return ' '.join(cleaned_tokens)\n",
    "        "
   ]
  },
  {
   "cell_type": "code",
   "execution_count": 39,
   "metadata": {},
   "outputs": [],
   "source": [
    "data['Clean_text'] = data['SentimentText'].apply(clean_text)"
   ]
  },
  {
   "cell_type": "code",
   "execution_count": 41,
   "metadata": {},
   "outputs": [
    {
     "name": "stdout",
     "output_type": "stream",
     "text": [
      "0       My PNR , I way water toilet mess everywhere co...\n",
      "1       AC working prayag lucknow intercity today depa...\n",
      "2       I 'm traveling chennai train coach S- . My ber...\n",
      "3                  irctc responding time tatkal booking .\n",
      "4                      Matter notified concerned official\n",
      "                              ...                        \n",
      "1361    An aged lady alloted upper berth train . . PNR...\n",
      "1362    aggressive copassengers , need immediate chang...\n",
      "1363    water coach ... please something ... train . ,...\n",
      "1364    While travelling Train No./Name : / DURONTO EX...\n",
      "1365                                http : //t.co/fPFSDcJ\n",
      "Name: Clean_text, Length: 1366, dtype: object\n"
     ]
    }
   ],
   "source": [
    "print(data['Clean_text'])"
   ]
  },
  {
   "cell_type": "code",
   "execution_count": 51,
   "metadata": {},
   "outputs": [],
   "source": [
    "data = data.drop(columns='SentimentText_Copy')"
   ]
  },
  {
   "cell_type": "code",
   "execution_count": 52,
   "metadata": {},
   "outputs": [
    {
     "data": {
      "text/html": [
       "<div>\n",
       "<style scoped>\n",
       "    .dataframe tbody tr th:only-of-type {\n",
       "        vertical-align: middle;\n",
       "    }\n",
       "\n",
       "    .dataframe tbody tr th {\n",
       "        vertical-align: top;\n",
       "    }\n",
       "\n",
       "    .dataframe thead th {\n",
       "        text-align: right;\n",
       "    }\n",
       "</style>\n",
       "<table border=\"1\" class=\"dataframe\">\n",
       "  <thead>\n",
       "    <tr style=\"text-align: right;\">\n",
       "      <th></th>\n",
       "      <th>Item ID</th>\n",
       "      <th>Sentiment</th>\n",
       "      <th>SentimentText</th>\n",
       "      <th>Clean_text</th>\n",
       "    </tr>\n",
       "  </thead>\n",
       "  <tbody>\n",
       "    <tr>\n",
       "      <th>0</th>\n",
       "      <td>1</td>\n",
       "      <td>0</td>\n",
       "      <td>@RailMinIndia My PNR is 8348062961, I am in wa...</td>\n",
       "      <td>My PNR , I way water toilet mess everywhere co...</td>\n",
       "    </tr>\n",
       "    <tr>\n",
       "      <th>1</th>\n",
       "      <td>2</td>\n",
       "      <td>0</td>\n",
       "      <td>@sureshpprabhu @RailMinIndia AC not working in...</td>\n",
       "      <td>AC working prayag lucknow intercity today depa...</td>\n",
       "    </tr>\n",
       "    <tr>\n",
       "      <th>2</th>\n",
       "      <td>3</td>\n",
       "      <td>0</td>\n",
       "      <td>@RailMinIndia I'm traveling to chennai by trai...</td>\n",
       "      <td>I 'm traveling chennai train coach S- . My ber...</td>\n",
       "    </tr>\n",
       "    <tr>\n",
       "      <th>3</th>\n",
       "      <td>4</td>\n",
       "      <td>5</td>\n",
       "      <td>@RailMinIndia irctc is not responding at the t...</td>\n",
       "      <td>irctc responding time tatkal booking .</td>\n",
       "    </tr>\n",
       "    <tr>\n",
       "      <th>4</th>\n",
       "      <td>5</td>\n",
       "      <td>7</td>\n",
       "      <td>@DRMbhopal @RailMinIndia @sanjaygupta2012 @drm...</td>\n",
       "      <td>Matter notified concerned official</td>\n",
       "    </tr>\n",
       "  </tbody>\n",
       "</table>\n",
       "</div>"
      ],
      "text/plain": [
       "   Item ID  Sentiment                                      SentimentText  \\\n",
       "0        1          0  @RailMinIndia My PNR is 8348062961, I am in wa...   \n",
       "1        2          0  @sureshpprabhu @RailMinIndia AC not working in...   \n",
       "2        3          0  @RailMinIndia I'm traveling to chennai by trai...   \n",
       "3        4          5  @RailMinIndia irctc is not responding at the t...   \n",
       "4        5          7  @DRMbhopal @RailMinIndia @sanjaygupta2012 @drm...   \n",
       "\n",
       "                                          Clean_text  \n",
       "0  My PNR , I way water toilet mess everywhere co...  \n",
       "1  AC working prayag lucknow intercity today depa...  \n",
       "2  I 'm traveling chennai train coach S- . My ber...  \n",
       "3             irctc responding time tatkal booking .  \n",
       "4                 Matter notified concerned official  "
      ]
     },
     "execution_count": 52,
     "metadata": {},
     "output_type": "execute_result"
    }
   ],
   "source": [
    "data.head()"
   ]
  },
  {
   "cell_type": "code",
   "execution_count": 53,
   "metadata": {},
   "outputs": [],
   "source": [
    "data.to_csv('./data/clean_data.csv')"
   ]
  },
  {
   "cell_type": "code",
   "execution_count": null,
   "metadata": {},
   "outputs": [],
   "source": []
  }
 ],
 "metadata": {
  "kernelspec": {
   "display_name": "Python 3",
   "language": "python",
   "name": "python3"
  },
  "language_info": {
   "codemirror_mode": {
    "name": "ipython",
    "version": 3
   },
   "file_extension": ".py",
   "mimetype": "text/x-python",
   "name": "python",
   "nbconvert_exporter": "python",
   "pygments_lexer": "ipython3",
   "version": "3.10.16"
  }
 },
 "nbformat": 4,
 "nbformat_minor": 2
}
