{
 "cells": [
  {
   "cell_type": "code",
   "execution_count": 5,
   "metadata": {},
   "outputs": [],
   "source": [
    "import pandas as pd\n",
    "import re \n",
    "import string \n",
    "\n",
    "import nltk\n",
    "from nltk.corpus import stopwords\n",
    "from nltk.tokenize import word_tokenize\n",
    "from nltk.stem import WordNetLemmatizer"
   ]
  },
  {
   "cell_type": "code",
   "execution_count": 91,
   "metadata": {},
   "outputs": [],
   "source": [
    "data = pd.read_csv('./data/dataset.csv', encoding=\"latin-1\")"
   ]
  },
  {
   "cell_type": "code",
   "execution_count": 87,
   "metadata": {},
   "outputs": [
    {
     "data": {
      "text/html": [
       "<div>\n",
       "<style scoped>\n",
       "    .dataframe tbody tr th:only-of-type {\n",
       "        vertical-align: middle;\n",
       "    }\n",
       "\n",
       "    .dataframe tbody tr th {\n",
       "        vertical-align: top;\n",
       "    }\n",
       "\n",
       "    .dataframe thead th {\n",
       "        text-align: right;\n",
       "    }\n",
       "</style>\n",
       "<table border=\"1\" class=\"dataframe\">\n",
       "  <thead>\n",
       "    <tr style=\"text-align: right;\">\n",
       "      <th></th>\n",
       "      <th>ï»¿Item ID</th>\n",
       "      <th>Sentiment</th>\n",
       "      <th>SentimentText</th>\n",
       "    </tr>\n",
       "  </thead>\n",
       "  <tbody>\n",
       "    <tr>\n",
       "      <th>0</th>\n",
       "      <td>1</td>\n",
       "      <td>0</td>\n",
       "      <td>@RailMinIndia My PNR is 8348062961, I am in wa...</td>\n",
       "    </tr>\n",
       "    <tr>\n",
       "      <th>1</th>\n",
       "      <td>2</td>\n",
       "      <td>0</td>\n",
       "      <td>@sureshpprabhu @RailMinIndia AC not working in...</td>\n",
       "    </tr>\n",
       "    <tr>\n",
       "      <th>2</th>\n",
       "      <td>3</td>\n",
       "      <td>0</td>\n",
       "      <td>@RailMinIndia I'm traveling to chennai by trai...</td>\n",
       "    </tr>\n",
       "    <tr>\n",
       "      <th>3</th>\n",
       "      <td>4</td>\n",
       "      <td>5</td>\n",
       "      <td>@RailMinIndia irctc is not responding at the t...</td>\n",
       "    </tr>\n",
       "    <tr>\n",
       "      <th>4</th>\n",
       "      <td>5</td>\n",
       "      <td>7</td>\n",
       "      <td>@DRMbhopal @RailMinIndia @sanjaygupta2012 @drm...</td>\n",
       "    </tr>\n",
       "    <tr>\n",
       "      <th>5</th>\n",
       "      <td>6</td>\n",
       "      <td>6</td>\n",
       "      <td>@RailMinIndia If you can't give justice to gra...</td>\n",
       "    </tr>\n",
       "    <tr>\n",
       "      <th>6</th>\n",
       "      <td>7</td>\n",
       "      <td>4</td>\n",
       "      <td>@sureshpprabhu @RailMinIndiaPlz wrkout smthng ...</td>\n",
       "    </tr>\n",
       "    <tr>\n",
       "      <th>7</th>\n",
       "      <td>8</td>\n",
       "      <td>0</td>\n",
       "      <td>@RailMinIndia @mumbairailusers Dirty water flo...</td>\n",
       "    </tr>\n",
       "    <tr>\n",
       "      <th>8</th>\n",
       "      <td>9</td>\n",
       "      <td>6</td>\n",
       "      <td>Enter to win $150 Amazon Gift Card! #Books #PN...</td>\n",
       "    </tr>\n",
       "    <tr>\n",
       "      <th>9</th>\n",
       "      <td>10</td>\n",
       "      <td>3</td>\n",
       "      <td>@RailMinIndia still vendors are selling local ...</td>\n",
       "    </tr>\n",
       "    <tr>\n",
       "      <th>10</th>\n",
       "      <td>11</td>\n",
       "      <td>4</td>\n",
       "      <td>@Central_Railway @RailMinIndia @drmmumbaicr pl...</td>\n",
       "    </tr>\n",
       "    <tr>\n",
       "      <th>11</th>\n",
       "      <td>12</td>\n",
       "      <td>0</td>\n",
       "      <td>@RailMinIndia #Swatch Bharat Abhiyaan# Train s...</td>\n",
       "    </tr>\n",
       "    <tr>\n",
       "      <th>12</th>\n",
       "      <td>13</td>\n",
       "      <td>5</td>\n",
       "      <td>@RailMinIndia @sureshpprabhu my reserved ticke...</td>\n",
       "    </tr>\n",
       "    <tr>\n",
       "      <th>13</th>\n",
       "      <td>14</td>\n",
       "      <td>4</td>\n",
       "      <td>@RailMinIndia  update:- today intercity 12930 ...</td>\n",
       "    </tr>\n",
       "    <tr>\n",
       "      <th>14</th>\n",
       "      <td>15</td>\n",
       "      <td>0</td>\n",
       "      <td>@RailMinIndia  TRAIN NO 12656 THERE IS NO PROP...</td>\n",
       "    </tr>\n",
       "  </tbody>\n",
       "</table>\n",
       "</div>"
      ],
      "text/plain": [
       "    ï»¿Item ID  Sentiment                                      SentimentText\n",
       "0            1          0  @RailMinIndia My PNR is 8348062961, I am in wa...\n",
       "1            2          0  @sureshpprabhu @RailMinIndia AC not working in...\n",
       "2            3          0  @RailMinIndia I'm traveling to chennai by trai...\n",
       "3            4          5  @RailMinIndia irctc is not responding at the t...\n",
       "4            5          7  @DRMbhopal @RailMinIndia @sanjaygupta2012 @drm...\n",
       "5            6          6  @RailMinIndia If you can't give justice to gra...\n",
       "6            7          4  @sureshpprabhu @RailMinIndiaPlz wrkout smthng ...\n",
       "7            8          0  @RailMinIndia @mumbairailusers Dirty water flo...\n",
       "8            9          6  Enter to win $150 Amazon Gift Card! #Books #PN...\n",
       "9           10          3  @RailMinIndia still vendors are selling local ...\n",
       "10          11          4  @Central_Railway @RailMinIndia @drmmumbaicr pl...\n",
       "11          12          0  @RailMinIndia #Swatch Bharat Abhiyaan# Train s...\n",
       "12          13          5  @RailMinIndia @sureshpprabhu my reserved ticke...\n",
       "13          14          4  @RailMinIndia  update:- today intercity 12930 ...\n",
       "14          15          0  @RailMinIndia  TRAIN NO 12656 THERE IS NO PROP..."
      ]
     },
     "execution_count": 87,
     "metadata": {},
     "output_type": "execute_result"
    }
   ],
   "source": [
    "data.head(15)"
   ]
  },
  {
   "cell_type": "code",
   "execution_count": 67,
   "metadata": {},
   "outputs": [
    {
     "name": "stdout",
     "output_type": "stream",
     "text": [
      "<class 'pandas.core.frame.DataFrame'>\n",
      "RangeIndex: 1366 entries, 0 to 1365\n",
      "Data columns (total 4 columns):\n",
      " #   Column         Non-Null Count  Dtype \n",
      "---  ------         --------------  ----- \n",
      " 0   Unnamed: 0     1366 non-null   int64 \n",
      " 1   Ã¯Â»Â¿Item ID  1366 non-null   int64 \n",
      " 2   Sentiment      1366 non-null   int64 \n",
      " 3   SentimentText  1366 non-null   object\n",
      "dtypes: int64(3), object(1)\n",
      "memory usage: 42.8+ KB\n"
     ]
    }
   ],
   "source": [
    "data.info()"
   ]
  },
  {
   "cell_type": "code",
   "execution_count": 88,
   "metadata": {},
   "outputs": [],
   "source": [
    "data.to_csv(\"modified_dataset.csv\")"
   ]
  },
  {
   "cell_type": "code",
   "execution_count": 89,
   "metadata": {},
   "outputs": [
    {
     "data": {
      "text/html": [
       "<div>\n",
       "<style scoped>\n",
       "    .dataframe tbody tr th:only-of-type {\n",
       "        vertical-align: middle;\n",
       "    }\n",
       "\n",
       "    .dataframe tbody tr th {\n",
       "        vertical-align: top;\n",
       "    }\n",
       "\n",
       "    .dataframe thead th {\n",
       "        text-align: right;\n",
       "    }\n",
       "</style>\n",
       "<table border=\"1\" class=\"dataframe\">\n",
       "  <thead>\n",
       "    <tr style=\"text-align: right;\">\n",
       "      <th></th>\n",
       "      <th>ï»¿Item ID</th>\n",
       "      <th>Sentiment</th>\n",
       "      <th>SentimentText</th>\n",
       "    </tr>\n",
       "  </thead>\n",
       "  <tbody>\n",
       "    <tr>\n",
       "      <th>0</th>\n",
       "      <td>False</td>\n",
       "      <td>False</td>\n",
       "      <td>False</td>\n",
       "    </tr>\n",
       "    <tr>\n",
       "      <th>1</th>\n",
       "      <td>False</td>\n",
       "      <td>False</td>\n",
       "      <td>False</td>\n",
       "    </tr>\n",
       "    <tr>\n",
       "      <th>2</th>\n",
       "      <td>False</td>\n",
       "      <td>False</td>\n",
       "      <td>False</td>\n",
       "    </tr>\n",
       "    <tr>\n",
       "      <th>3</th>\n",
       "      <td>False</td>\n",
       "      <td>False</td>\n",
       "      <td>False</td>\n",
       "    </tr>\n",
       "    <tr>\n",
       "      <th>4</th>\n",
       "      <td>False</td>\n",
       "      <td>False</td>\n",
       "      <td>False</td>\n",
       "    </tr>\n",
       "    <tr>\n",
       "      <th>...</th>\n",
       "      <td>...</td>\n",
       "      <td>...</td>\n",
       "      <td>...</td>\n",
       "    </tr>\n",
       "    <tr>\n",
       "      <th>1361</th>\n",
       "      <td>False</td>\n",
       "      <td>False</td>\n",
       "      <td>False</td>\n",
       "    </tr>\n",
       "    <tr>\n",
       "      <th>1362</th>\n",
       "      <td>False</td>\n",
       "      <td>False</td>\n",
       "      <td>False</td>\n",
       "    </tr>\n",
       "    <tr>\n",
       "      <th>1363</th>\n",
       "      <td>False</td>\n",
       "      <td>False</td>\n",
       "      <td>False</td>\n",
       "    </tr>\n",
       "    <tr>\n",
       "      <th>1364</th>\n",
       "      <td>False</td>\n",
       "      <td>False</td>\n",
       "      <td>False</td>\n",
       "    </tr>\n",
       "    <tr>\n",
       "      <th>1365</th>\n",
       "      <td>False</td>\n",
       "      <td>False</td>\n",
       "      <td>False</td>\n",
       "    </tr>\n",
       "  </tbody>\n",
       "</table>\n",
       "<p>1366 rows × 3 columns</p>\n",
       "</div>"
      ],
      "text/plain": [
       "      ï»¿Item ID  Sentiment  SentimentText\n",
       "0          False      False          False\n",
       "1          False      False          False\n",
       "2          False      False          False\n",
       "3          False      False          False\n",
       "4          False      False          False\n",
       "...          ...        ...            ...\n",
       "1361       False      False          False\n",
       "1362       False      False          False\n",
       "1363       False      False          False\n",
       "1364       False      False          False\n",
       "1365       False      False          False\n",
       "\n",
       "[1366 rows x 3 columns]"
      ]
     },
     "execution_count": 89,
     "metadata": {},
     "output_type": "execute_result"
    }
   ],
   "source": [
    "data.isnull()"
   ]
  },
  {
   "cell_type": "code",
   "execution_count": null,
   "metadata": {},
   "outputs": [],
   "source": [
    "data.rename(columns={\"ï»¿Item ID\": \"Item ID\"}, inplace=True)"
   ]
  },
  {
   "cell_type": "code",
   "execution_count": 93,
   "metadata": {},
   "outputs": [
    {
     "data": {
      "text/html": [
       "<div>\n",
       "<style scoped>\n",
       "    .dataframe tbody tr th:only-of-type {\n",
       "        vertical-align: middle;\n",
       "    }\n",
       "\n",
       "    .dataframe tbody tr th {\n",
       "        vertical-align: top;\n",
       "    }\n",
       "\n",
       "    .dataframe thead th {\n",
       "        text-align: right;\n",
       "    }\n",
       "</style>\n",
       "<table border=\"1\" class=\"dataframe\">\n",
       "  <thead>\n",
       "    <tr style=\"text-align: right;\">\n",
       "      <th></th>\n",
       "      <th>Item ID</th>\n",
       "      <th>Sentiment</th>\n",
       "      <th>SentimentText</th>\n",
       "    </tr>\n",
       "  </thead>\n",
       "  <tbody>\n",
       "    <tr>\n",
       "      <th>0</th>\n",
       "      <td>1</td>\n",
       "      <td>0</td>\n",
       "      <td>@RailMinIndia My PNR is 8348062961, I am in wa...</td>\n",
       "    </tr>\n",
       "    <tr>\n",
       "      <th>1</th>\n",
       "      <td>2</td>\n",
       "      <td>0</td>\n",
       "      <td>@sureshpprabhu @RailMinIndia AC not working in...</td>\n",
       "    </tr>\n",
       "    <tr>\n",
       "      <th>2</th>\n",
       "      <td>3</td>\n",
       "      <td>0</td>\n",
       "      <td>@RailMinIndia I'm traveling to chennai by trai...</td>\n",
       "    </tr>\n",
       "    <tr>\n",
       "      <th>3</th>\n",
       "      <td>4</td>\n",
       "      <td>5</td>\n",
       "      <td>@RailMinIndia irctc is not responding at the t...</td>\n",
       "    </tr>\n",
       "    <tr>\n",
       "      <th>4</th>\n",
       "      <td>5</td>\n",
       "      <td>7</td>\n",
       "      <td>@DRMbhopal @RailMinIndia @sanjaygupta2012 @drm...</td>\n",
       "    </tr>\n",
       "  </tbody>\n",
       "</table>\n",
       "</div>"
      ],
      "text/plain": [
       "   Item ID  Sentiment                                      SentimentText\n",
       "0        1          0  @RailMinIndia My PNR is 8348062961, I am in wa...\n",
       "1        2          0  @sureshpprabhu @RailMinIndia AC not working in...\n",
       "2        3          0  @RailMinIndia I'm traveling to chennai by trai...\n",
       "3        4          5  @RailMinIndia irctc is not responding at the t...\n",
       "4        5          7  @DRMbhopal @RailMinIndia @sanjaygupta2012 @drm..."
      ]
     },
     "execution_count": 93,
     "metadata": {},
     "output_type": "execute_result"
    }
   ],
   "source": [
    "data.head()"
   ]
  },
  {
   "cell_type": "code",
   "execution_count": 160,
   "metadata": {},
   "outputs": [],
   "source": [
    "data.to_csv(\"modified_dataset.csv\")"
   ]
  },
  {
   "cell_type": "code",
   "execution_count": 161,
   "metadata": {},
   "outputs": [],
   "source": [
    "df = pd.read_csv(\"./data/modified_dataset.csv\", index_col=0)  \n",
    "df.to_csv(\"modified_dataset.csv\", index=False)"
   ]
  },
  {
   "cell_type": "code",
   "execution_count": 162,
   "metadata": {},
   "outputs": [
    {
     "data": {
      "text/html": [
       "<div>\n",
       "<style scoped>\n",
       "    .dataframe tbody tr th:only-of-type {\n",
       "        vertical-align: middle;\n",
       "    }\n",
       "\n",
       "    .dataframe tbody tr th {\n",
       "        vertical-align: top;\n",
       "    }\n",
       "\n",
       "    .dataframe thead th {\n",
       "        text-align: right;\n",
       "    }\n",
       "</style>\n",
       "<table border=\"1\" class=\"dataframe\">\n",
       "  <thead>\n",
       "    <tr style=\"text-align: right;\">\n",
       "      <th></th>\n",
       "      <th>Item ID</th>\n",
       "      <th>Sentiment</th>\n",
       "      <th>SentimentText</th>\n",
       "    </tr>\n",
       "  </thead>\n",
       "  <tbody>\n",
       "    <tr>\n",
       "      <th>0</th>\n",
       "      <td>1</td>\n",
       "      <td>0</td>\n",
       "      <td>@RailMinIndia My PNR is 8348062961, I am in wa...</td>\n",
       "    </tr>\n",
       "    <tr>\n",
       "      <th>1</th>\n",
       "      <td>2</td>\n",
       "      <td>0</td>\n",
       "      <td>@sureshpprabhu @RailMinIndia AC not working in...</td>\n",
       "    </tr>\n",
       "    <tr>\n",
       "      <th>2</th>\n",
       "      <td>3</td>\n",
       "      <td>0</td>\n",
       "      <td>@RailMinIndia I'm traveling to chennai by trai...</td>\n",
       "    </tr>\n",
       "    <tr>\n",
       "      <th>3</th>\n",
       "      <td>4</td>\n",
       "      <td>5</td>\n",
       "      <td>@RailMinIndia irctc is not responding at the t...</td>\n",
       "    </tr>\n",
       "    <tr>\n",
       "      <th>4</th>\n",
       "      <td>5</td>\n",
       "      <td>7</td>\n",
       "      <td>@DRMbhopal @RailMinIndia @sanjaygupta2012 @drm...</td>\n",
       "    </tr>\n",
       "  </tbody>\n",
       "</table>\n",
       "</div>"
      ],
      "text/plain": [
       "   Item ID  Sentiment                                      SentimentText\n",
       "0        1          0  @RailMinIndia My PNR is 8348062961, I am in wa...\n",
       "1        2          0  @sureshpprabhu @RailMinIndia AC not working in...\n",
       "2        3          0  @RailMinIndia I'm traveling to chennai by trai...\n",
       "3        4          5  @RailMinIndia irctc is not responding at the t...\n",
       "4        5          7  @DRMbhopal @RailMinIndia @sanjaygupta2012 @drm..."
      ]
     },
     "execution_count": 162,
     "metadata": {},
     "output_type": "execute_result"
    }
   ],
   "source": [
    "df.head()"
   ]
  },
  {
   "cell_type": "code",
   "execution_count": 163,
   "metadata": {},
   "outputs": [],
   "source": [
    "df['SentimentText_Copy'] = df['SentimentText']\n",
    "df.to_csv(\"updated_dataset.csv\", index=False)  "
   ]
  },
  {
   "cell_type": "code",
   "execution_count": 164,
   "metadata": {},
   "outputs": [
    {
     "data": {
      "text/html": [
       "<div>\n",
       "<style scoped>\n",
       "    .dataframe tbody tr th:only-of-type {\n",
       "        vertical-align: middle;\n",
       "    }\n",
       "\n",
       "    .dataframe tbody tr th {\n",
       "        vertical-align: top;\n",
       "    }\n",
       "\n",
       "    .dataframe thead th {\n",
       "        text-align: right;\n",
       "    }\n",
       "</style>\n",
       "<table border=\"1\" class=\"dataframe\">\n",
       "  <thead>\n",
       "    <tr style=\"text-align: right;\">\n",
       "      <th></th>\n",
       "      <th>Item ID</th>\n",
       "      <th>Sentiment</th>\n",
       "      <th>SentimentText</th>\n",
       "      <th>SentimentText_Copy</th>\n",
       "    </tr>\n",
       "  </thead>\n",
       "  <tbody>\n",
       "    <tr>\n",
       "      <th>0</th>\n",
       "      <td>1</td>\n",
       "      <td>0</td>\n",
       "      <td>@RailMinIndia My PNR is 8348062961, I am in wa...</td>\n",
       "      <td>@RailMinIndia My PNR is 8348062961, I am in wa...</td>\n",
       "    </tr>\n",
       "    <tr>\n",
       "      <th>1</th>\n",
       "      <td>2</td>\n",
       "      <td>0</td>\n",
       "      <td>@sureshpprabhu @RailMinIndia AC not working in...</td>\n",
       "      <td>@sureshpprabhu @RailMinIndia AC not working in...</td>\n",
       "    </tr>\n",
       "    <tr>\n",
       "      <th>2</th>\n",
       "      <td>3</td>\n",
       "      <td>0</td>\n",
       "      <td>@RailMinIndia I'm traveling to chennai by trai...</td>\n",
       "      <td>@RailMinIndia I'm traveling to chennai by trai...</td>\n",
       "    </tr>\n",
       "    <tr>\n",
       "      <th>3</th>\n",
       "      <td>4</td>\n",
       "      <td>5</td>\n",
       "      <td>@RailMinIndia irctc is not responding at the t...</td>\n",
       "      <td>@RailMinIndia irctc is not responding at the t...</td>\n",
       "    </tr>\n",
       "    <tr>\n",
       "      <th>4</th>\n",
       "      <td>5</td>\n",
       "      <td>7</td>\n",
       "      <td>@DRMbhopal @RailMinIndia @sanjaygupta2012 @drm...</td>\n",
       "      <td>@DRMbhopal @RailMinIndia @sanjaygupta2012 @drm...</td>\n",
       "    </tr>\n",
       "  </tbody>\n",
       "</table>\n",
       "</div>"
      ],
      "text/plain": [
       "   Item ID  Sentiment                                      SentimentText  \\\n",
       "0        1          0  @RailMinIndia My PNR is 8348062961, I am in wa...   \n",
       "1        2          0  @sureshpprabhu @RailMinIndia AC not working in...   \n",
       "2        3          0  @RailMinIndia I'm traveling to chennai by trai...   \n",
       "3        4          5  @RailMinIndia irctc is not responding at the t...   \n",
       "4        5          7  @DRMbhopal @RailMinIndia @sanjaygupta2012 @drm...   \n",
       "\n",
       "                                  SentimentText_Copy  \n",
       "0  @RailMinIndia My PNR is 8348062961, I am in wa...  \n",
       "1  @sureshpprabhu @RailMinIndia AC not working in...  \n",
       "2  @RailMinIndia I'm traveling to chennai by trai...  \n",
       "3  @RailMinIndia irctc is not responding at the t...  \n",
       "4  @DRMbhopal @RailMinIndia @sanjaygupta2012 @drm...  "
      ]
     },
     "execution_count": 164,
     "metadata": {},
     "output_type": "execute_result"
    }
   ],
   "source": [
    "df.head()"
   ]
  },
  {
   "cell_type": "code",
   "execution_count": 165,
   "metadata": {},
   "outputs": [],
   "source": [
    "df['SentimentText_Copy'] = df['SentimentText_Copy'].str.replace(r'@\\w+', '', regex=True).str.strip()"
   ]
  },
  {
   "cell_type": "code",
   "execution_count": 166,
   "metadata": {},
   "outputs": [],
   "source": [
    "df['SentimentText_Copy'] = df['SentimentText_Copy'].str.replace(r'\\d+', '', regex=True).str.strip()"
   ]
  },
  {
   "cell_type": "code",
   "execution_count": 167,
   "metadata": {},
   "outputs": [],
   "source": [
    "df.to_csv(\"updated_dataset.csv\", index=False) "
   ]
  },
  {
   "cell_type": "code",
   "execution_count": 168,
   "metadata": {},
   "outputs": [],
   "source": [
    "df['SentimentText_Copy'] = df['SentimentText_Copy'].str.replace(r'[^a-zA-Z0-9\\s]', '', regex=True).str.strip()"
   ]
  },
  {
   "cell_type": "code",
   "execution_count": 169,
   "metadata": {},
   "outputs": [],
   "source": [
    "df['SentimentText_Copy'] = df['SentimentText_Copy'].str.lower()"
   ]
  },
  {
   "cell_type": "code",
   "execution_count": null,
   "metadata": {},
   "outputs": [],
   "source": [
    "words_to_remove = r'\\b(is|in|but|there)\\b'  \n",
    "df['SentimentText_Copy'] = df['SentimentText_Copy'].str.replace(words_to_remove, '', regex=True).str.strip()"
   ]
  },
  {
   "cell_type": "code",
   "execution_count": 172,
   "metadata": {},
   "outputs": [
    {
     "data": {
      "text/html": [
       "<div>\n",
       "<style scoped>\n",
       "    .dataframe tbody tr th:only-of-type {\n",
       "        vertical-align: middle;\n",
       "    }\n",
       "\n",
       "    .dataframe tbody tr th {\n",
       "        vertical-align: top;\n",
       "    }\n",
       "\n",
       "    .dataframe thead th {\n",
       "        text-align: right;\n",
       "    }\n",
       "</style>\n",
       "<table border=\"1\" class=\"dataframe\">\n",
       "  <thead>\n",
       "    <tr style=\"text-align: right;\">\n",
       "      <th></th>\n",
       "      <th>Item ID</th>\n",
       "      <th>Sentiment</th>\n",
       "      <th>SentimentText</th>\n",
       "      <th>SentimentText_Copy</th>\n",
       "    </tr>\n",
       "  </thead>\n",
       "  <tbody>\n",
       "    <tr>\n",
       "      <th>0</th>\n",
       "      <td>1</td>\n",
       "      <td>0</td>\n",
       "      <td>@RailMinIndia My PNR is 8348062961, I am in wa...</td>\n",
       "      <td>my pnr   i am  way    no water  toilet and mes...</td>\n",
       "    </tr>\n",
       "    <tr>\n",
       "      <th>1</th>\n",
       "      <td>2</td>\n",
       "      <td>0</td>\n",
       "      <td>@sureshpprabhu @RailMinIndia AC not working in...</td>\n",
       "      <td>ac not working  prayag lucknow intercity today...</td>\n",
       "    </tr>\n",
       "    <tr>\n",
       "      <th>2</th>\n",
       "      <td>3</td>\n",
       "      <td>0</td>\n",
       "      <td>@RailMinIndia I'm traveling to chennai by trai...</td>\n",
       "      <td>im traveling to chennai by train  coach s my b...</td>\n",
       "    </tr>\n",
       "    <tr>\n",
       "      <th>3</th>\n",
       "      <td>4</td>\n",
       "      <td>5</td>\n",
       "      <td>@RailMinIndia irctc is not responding at the t...</td>\n",
       "      <td>irctc  not responding at the time of tatkal bo...</td>\n",
       "    </tr>\n",
       "    <tr>\n",
       "      <th>4</th>\n",
       "      <td>5</td>\n",
       "      <td>7</td>\n",
       "      <td>@DRMbhopal @RailMinIndia @sanjaygupta2012 @drm...</td>\n",
       "      <td>matter notified to concerned official</td>\n",
       "    </tr>\n",
       "  </tbody>\n",
       "</table>\n",
       "</div>"
      ],
      "text/plain": [
       "   Item ID  Sentiment                                      SentimentText  \\\n",
       "0        1          0  @RailMinIndia My PNR is 8348062961, I am in wa...   \n",
       "1        2          0  @sureshpprabhu @RailMinIndia AC not working in...   \n",
       "2        3          0  @RailMinIndia I'm traveling to chennai by trai...   \n",
       "3        4          5  @RailMinIndia irctc is not responding at the t...   \n",
       "4        5          7  @DRMbhopal @RailMinIndia @sanjaygupta2012 @drm...   \n",
       "\n",
       "                                  SentimentText_Copy  \n",
       "0  my pnr   i am  way    no water  toilet and mes...  \n",
       "1  ac not working  prayag lucknow intercity today...  \n",
       "2  im traveling to chennai by train  coach s my b...  \n",
       "3  irctc  not responding at the time of tatkal bo...  \n",
       "4              matter notified to concerned official  "
      ]
     },
     "execution_count": 172,
     "metadata": {},
     "output_type": "execute_result"
    }
   ],
   "source": [
    "df.head()"
   ]
  },
  {
   "cell_type": "code",
   "execution_count": 173,
   "metadata": {},
   "outputs": [],
   "source": [
    "df.to_csv(\"updated_dataset.csv\", index=False)"
   ]
  },
  {
   "cell_type": "code",
   "execution_count": 35,
   "metadata": {},
   "outputs": [
    {
     "name": "stderr",
     "output_type": "stream",
     "text": [
      "[nltk_data] Downloading package wordnet to\n",
      "[nltk_data]     C:\\Users\\swaya\\AppData\\Roaming\\nltk_data...\n",
      "[nltk_data]   Package wordnet is already up-to-date!\n"
     ]
    },
    {
     "data": {
      "text/plain": [
       "True"
      ]
     },
     "execution_count": 35,
     "metadata": {},
     "output_type": "execute_result"
    }
   ],
   "source": [
    "nltk.download('wordnet')"
   ]
  },
  {
   "cell_type": "code",
   "execution_count": 30,
   "metadata": {},
   "outputs": [
    {
     "name": "stderr",
     "output_type": "stream",
     "text": [
      "[nltk_data] Downloading package omw-1.4 to\n",
      "[nltk_data]     C:\\Users\\swaya\\AppData\\Roaming\\nltk_data...\n"
     ]
    },
    {
     "data": {
      "text/plain": [
       "True"
      ]
     },
     "execution_count": 30,
     "metadata": {},
     "output_type": "execute_result"
    }
   ],
   "source": [
    "nltk.download('omw-1.4')"
   ]
  },
  {
   "cell_type": "code",
   "execution_count": 44,
   "metadata": {},
   "outputs": [
    {
     "name": "stderr",
     "output_type": "stream",
     "text": [
      "[nltk_data] Downloading package punkt_tab to\n",
      "[nltk_data]     C:\\Users\\swaya\\AppData\\Roaming\\nltk_data...\n",
      "[nltk_data]   Unzipping tokenizers\\punkt_tab.zip.\n"
     ]
    },
    {
     "data": {
      "text/plain": [
       "True"
      ]
     },
     "execution_count": 44,
     "metadata": {},
     "output_type": "execute_result"
    }
   ],
   "source": [
    "nltk.download('punkt_tab')"
   ]
  },
  {
   "cell_type": "code",
   "execution_count": 47,
   "metadata": {},
   "outputs": [],
   "source": [
    "from nltk.tokenize import word_tokenize\n",
    "from nltk.stem import WordNetLemmatizer\n",
    "\n",
    "lemmatizer = WordNetLemmatizer()\n",
    "\n",
    "input_str = \"been had done languages cities mice\"\n",
    "\n",
    "input_tokens = word_tokenize(input_str)\n",
    "\n",
    "lemmatized_words = [lemmatizer.lemmatize(word) for word in input_tokens]"
   ]
  },
  {
   "cell_type": "code",
   "execution_count": 49,
   "metadata": {},
   "outputs": [
    {
     "data": {
      "text/html": [
       "<div>\n",
       "<style scoped>\n",
       "    .dataframe tbody tr th:only-of-type {\n",
       "        vertical-align: middle;\n",
       "    }\n",
       "\n",
       "    .dataframe tbody tr th {\n",
       "        vertical-align: top;\n",
       "    }\n",
       "\n",
       "    .dataframe thead th {\n",
       "        text-align: right;\n",
       "    }\n",
       "</style>\n",
       "<table border=\"1\" class=\"dataframe\">\n",
       "  <thead>\n",
       "    <tr style=\"text-align: right;\">\n",
       "      <th></th>\n",
       "      <th>Item ID</th>\n",
       "      <th>Sentiment</th>\n",
       "      <th>SentimentText</th>\n",
       "      <th>SentimentText_Copy</th>\n",
       "    </tr>\n",
       "  </thead>\n",
       "  <tbody>\n",
       "    <tr>\n",
       "      <th>0</th>\n",
       "      <td>1</td>\n",
       "      <td>0</td>\n",
       "      <td>@RailMinIndia My PNR is 8348062961, I am in wa...</td>\n",
       "      <td>my pnr i am way no water toilet and mess every...</td>\n",
       "    </tr>\n",
       "    <tr>\n",
       "      <th>1</th>\n",
       "      <td>2</td>\n",
       "      <td>0</td>\n",
       "      <td>@sureshpprabhu @RailMinIndia AC not working in...</td>\n",
       "      <td>ac not working prayag lucknow intercity today ...</td>\n",
       "    </tr>\n",
       "    <tr>\n",
       "      <th>2</th>\n",
       "      <td>3</td>\n",
       "      <td>0</td>\n",
       "      <td>@RailMinIndia I'm traveling to chennai by trai...</td>\n",
       "      <td>im traveling to chennai by train coach s my be...</td>\n",
       "    </tr>\n",
       "    <tr>\n",
       "      <th>3</th>\n",
       "      <td>4</td>\n",
       "      <td>5</td>\n",
       "      <td>@RailMinIndia irctc is not responding at the t...</td>\n",
       "      <td>irctc not responding at the time of tatkal boo...</td>\n",
       "    </tr>\n",
       "    <tr>\n",
       "      <th>4</th>\n",
       "      <td>5</td>\n",
       "      <td>7</td>\n",
       "      <td>@DRMbhopal @RailMinIndia @sanjaygupta2012 @drm...</td>\n",
       "      <td>matter notified to concerned official</td>\n",
       "    </tr>\n",
       "    <tr>\n",
       "      <th>5</th>\n",
       "      <td>6</td>\n",
       "      <td>6</td>\n",
       "      <td>@RailMinIndia If you can't give justice to gra...</td>\n",
       "      <td>if you cant give justice to graduate engineer ...</td>\n",
       "    </tr>\n",
       "    <tr>\n",
       "      <th>6</th>\n",
       "      <td>7</td>\n",
       "      <td>4</td>\n",
       "      <td>@sureshpprabhu @RailMinIndiaPlz wrkout smthng ...</td>\n",
       "      <td>wrkout smthng tht cn hlp train to run on right...</td>\n",
       "    </tr>\n",
       "    <tr>\n",
       "      <th>7</th>\n",
       "      <td>8</td>\n",
       "      <td>0</td>\n",
       "      <td>@RailMinIndia @mumbairailusers Dirty water flo...</td>\n",
       "      <td>dirty water flowing ftm blower of local coach ...</td>\n",
       "    </tr>\n",
       "    <tr>\n",
       "      <th>8</th>\n",
       "      <td>9</td>\n",
       "      <td>6</td>\n",
       "      <td>Enter to win $150 Amazon Gift Card! #Books #PN...</td>\n",
       "      <td>enter to win amazon gift card book pnr urbanfa...</td>\n",
       "    </tr>\n",
       "    <tr>\n",
       "      <th>9</th>\n",
       "      <td>10</td>\n",
       "      <td>3</td>\n",
       "      <td>@RailMinIndia still vendors are selling local ...</td>\n",
       "      <td>still vendor are selling local local product l...</td>\n",
       "    </tr>\n",
       "    <tr>\n",
       "      <th>10</th>\n",
       "      <td>11</td>\n",
       "      <td>4</td>\n",
       "      <td>@Central_Railway @RailMinIndia @drmmumbaicr pl...</td>\n",
       "      <td>please update the status of today ltt ppta exp...</td>\n",
       "    </tr>\n",
       "    <tr>\n",
       "      <th>11</th>\n",
       "      <td>12</td>\n",
       "      <td>0</td>\n",
       "      <td>@RailMinIndia #Swatch Bharat Abhiyaan# Train s...</td>\n",
       "      <td>swatch bharat abhiyaan train stop at kozhikodc...</td>\n",
       "    </tr>\n",
       "    <tr>\n",
       "      <th>12</th>\n",
       "      <td>13</td>\n",
       "      <td>5</td>\n",
       "      <td>@RailMinIndia @sureshpprabhu my reserved ticke...</td>\n",
       "      <td>my reserved ticket wa been allotted to rac pas...</td>\n",
       "    </tr>\n",
       "    <tr>\n",
       "      <th>13</th>\n",
       "      <td>14</td>\n",
       "      <td>4</td>\n",
       "      <td>@RailMinIndia  update:- today intercity 12930 ...</td>\n",
       "      <td>update today intercity late min</td>\n",
       "    </tr>\n",
       "    <tr>\n",
       "      <th>14</th>\n",
       "      <td>15</td>\n",
       "      <td>0</td>\n",
       "      <td>@RailMinIndia  TRAIN NO 12656 THERE IS NO PROP...</td>\n",
       "      <td>train no no proper water service train kindly ...</td>\n",
       "    </tr>\n",
       "  </tbody>\n",
       "</table>\n",
       "</div>"
      ],
      "text/plain": [
       "    Item ID  Sentiment                                      SentimentText  \\\n",
       "0         1          0  @RailMinIndia My PNR is 8348062961, I am in wa...   \n",
       "1         2          0  @sureshpprabhu @RailMinIndia AC not working in...   \n",
       "2         3          0  @RailMinIndia I'm traveling to chennai by trai...   \n",
       "3         4          5  @RailMinIndia irctc is not responding at the t...   \n",
       "4         5          7  @DRMbhopal @RailMinIndia @sanjaygupta2012 @drm...   \n",
       "5         6          6  @RailMinIndia If you can't give justice to gra...   \n",
       "6         7          4  @sureshpprabhu @RailMinIndiaPlz wrkout smthng ...   \n",
       "7         8          0  @RailMinIndia @mumbairailusers Dirty water flo...   \n",
       "8         9          6  Enter to win $150 Amazon Gift Card! #Books #PN...   \n",
       "9        10          3  @RailMinIndia still vendors are selling local ...   \n",
       "10       11          4  @Central_Railway @RailMinIndia @drmmumbaicr pl...   \n",
       "11       12          0  @RailMinIndia #Swatch Bharat Abhiyaan# Train s...   \n",
       "12       13          5  @RailMinIndia @sureshpprabhu my reserved ticke...   \n",
       "13       14          4  @RailMinIndia  update:- today intercity 12930 ...   \n",
       "14       15          0  @RailMinIndia  TRAIN NO 12656 THERE IS NO PROP...   \n",
       "\n",
       "                                   SentimentText_Copy  \n",
       "0   my pnr i am way no water toilet and mess every...  \n",
       "1   ac not working prayag lucknow intercity today ...  \n",
       "2   im traveling to chennai by train coach s my be...  \n",
       "3   irctc not responding at the time of tatkal boo...  \n",
       "4               matter notified to concerned official  \n",
       "5   if you cant give justice to graduate engineer ...  \n",
       "6   wrkout smthng tht cn hlp train to run on right...  \n",
       "7   dirty water flowing ftm blower of local coach ...  \n",
       "8   enter to win amazon gift card book pnr urbanfa...  \n",
       "9   still vendor are selling local local product l...  \n",
       "10  please update the status of today ltt ppta exp...  \n",
       "11  swatch bharat abhiyaan train stop at kozhikodc...  \n",
       "12  my reserved ticket wa been allotted to rac pas...  \n",
       "13                    update today intercity late min  \n",
       "14  train no no proper water service train kindly ...  "
      ]
     },
     "execution_count": 49,
     "metadata": {},
     "output_type": "execute_result"
    }
   ],
   "source": [
    "df.head(15)"
   ]
  },
  {
   "cell_type": "code",
   "execution_count": null,
   "metadata": {},
   "outputs": [
    {
     "data": {
      "text/plain": [
       "'better'"
      ]
     },
     "execution_count": 50,
     "metadata": {},
     "output_type": "execute_result"
    }
   ],
   "source": []
  }
 ],
 "metadata": {
  "kernelspec": {
   "display_name": "myenv",
   "language": "python",
   "name": "python3"
  },
  "language_info": {
   "codemirror_mode": {
    "name": "ipython",
    "version": 3
   },
   "file_extension": ".py",
   "mimetype": "text/x-python",
   "name": "python",
   "nbconvert_exporter": "python",
   "pygments_lexer": "ipython3",
   "version": "3.12.6"
  }
 },
 "nbformat": 4,
 "nbformat_minor": 2
}
